{
 "cells": [
  {
   "cell_type": "markdown",
   "id": "cf886496",
   "metadata": {},
   "source": [
    "# Learning Python\n",
    "## How to use jupyter notebook?\n",
    "### Our basic of python\n",
    "### **1- My first program**\n"
   ]
  },
  {
   "cell_type": "code",
   "execution_count": 1,
   "id": "372cb0fa",
   "metadata": {},
   "outputs": [
    {
     "name": "stdout",
     "output_type": "stream",
     "text": [
      "7\n",
      "Hello world\n",
      "i am learning python from ammar\n"
     ]
    }
   ],
   "source": [
    "\n",
    "print(2+5)\n",
    "print(\"Hello world\")\n",
    "print(\"i am learning python from ammar\")"
   ]
  },
  {
   "cell_type": "markdown",
   "id": "20e6c85e",
   "metadata": {},
   "source": [
    "### **2- Operators**"
   ]
  },
  {
   "cell_type": "code",
   "execution_count": 2,
   "id": "f53765e3",
   "metadata": {},
   "outputs": [
    {
     "name": "stdout",
     "output_type": "stream",
     "text": [
      "3\n",
      "2\n",
      "3.0\n",
      "8\n",
      "1\n",
      "3\n",
      "8\n",
      "6.5\n"
     ]
    }
   ],
   "source": [
    "print(2+1)\n",
    "print(3-1)\n",
    "print(6/2)\n",
    "print(2*4)\n",
    "print(13%2)\n",
    "\n",
    "print(6//2)\n",
    "print(2**3)\n",
    "print(3**2/2*3/3+6-4)\n"
   ]
  },
  {
   "cell_type": "markdown",
   "id": "b363c2cf",
   "metadata": {},
   "source": [
    "*pemdas*\n",
    "*paranthensis exponentials multiply division addition substract\n",
    "left to right sequence for M D & A S*"
   ]
  },
  {
   "cell_type": "markdown",
   "id": "1b30c59a",
   "metadata": {},
   "source": [
    "### **3- Strings**"
   ]
  },
  {
   "cell_type": "code",
   "execution_count": 3,
   "id": "1301bd81",
   "metadata": {},
   "outputs": [
    {
     "name": "stdout",
     "output_type": "stream",
     "text": [
      "Hello World\n",
      "Class\n",
      "Python\n"
     ]
    }
   ],
   "source": [
    "print('Hello World')\n",
    "print(\"Class\")\n",
    "print('''Python''')"
   ]
  }
 ],
 "metadata": {
  "kernelspec": {
   "display_name": "Python 3 (ipykernel)",
   "language": "python",
   "name": "python3"
  },
  "language_info": {
   "codemirror_mode": {
    "name": "ipython",
    "version": 3
   },
   "file_extension": ".py",
   "mimetype": "text/x-python",
   "name": "python",
   "nbconvert_exporter": "python",
   "pygments_lexer": "ipython3",
   "version": "3.9.13"
  }
 },
 "nbformat": 4,
 "nbformat_minor": 5
}
