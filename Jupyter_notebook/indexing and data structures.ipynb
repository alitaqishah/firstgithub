{
 "cells": [
  {
   "cell_type": "markdown",
   "id": "9dfb108d",
   "metadata": {},
   "source": [
    "# How we are indexing"
   ]
  },
  {
   "cell_type": "code",
   "execution_count": 1,
   "id": "5c75ac14",
   "metadata": {},
   "outputs": [
    {
     "data": {
      "text/plain": [
       "'Samosa Pakora'"
      ]
     },
     "execution_count": 1,
     "metadata": {},
     "output_type": "execute_result"
    }
   ],
   "source": [
    "# make a string\n",
    "\n",
    "a = \"Samosa Pakora\"\n",
    "a"
   ]
  },
  {
   "cell_type": "code",
   "execution_count": 2,
   "id": "fa69a96a",
   "metadata": {
    "scrolled": true
   },
   "outputs": [
    {
     "data": {
      "text/plain": [
       "'S'"
      ]
     },
     "execution_count": 2,
     "metadata": {},
     "output_type": "execute_result"
    }
   ],
   "source": [
    "a[0]"
   ]
  },
  {
   "cell_type": "code",
   "execution_count": 5,
   "id": "25db4b17",
   "metadata": {},
   "outputs": [
    {
     "data": {
      "text/plain": [
       "13"
      ]
     },
     "execution_count": 5,
     "metadata": {},
     "output_type": "execute_result"
    }
   ],
   "source": [
    "#length of index\n",
    "len(a)"
   ]
  },
  {
   "cell_type": "code",
   "execution_count": 3,
   "id": "61f41ea7",
   "metadata": {},
   "outputs": [
    {
     "data": {
      "text/plain": [
       "'a'"
      ]
     },
     "execution_count": 3,
     "metadata": {},
     "output_type": "execute_result"
    }
   ],
   "source": [
    "a[1]"
   ]
  },
  {
   "cell_type": "code",
   "execution_count": 4,
   "id": "dcafd75c",
   "metadata": {},
   "outputs": [
    {
     "data": {
      "text/plain": [
       "'o'"
      ]
     },
     "execution_count": 4,
     "metadata": {},
     "output_type": "execute_result"
    }
   ],
   "source": [
    "a[3]"
   ]
  },
  {
   "cell_type": "code",
   "execution_count": 6,
   "id": "6347f505",
   "metadata": {},
   "outputs": [
    {
     "ename": "IndexError",
     "evalue": "string index out of range",
     "output_type": "error",
     "traceback": [
      "\u001b[1;31m---------------------------------------------------------------------------\u001b[0m",
      "\u001b[1;31mIndexError\u001b[0m                                Traceback (most recent call last)",
      "\u001b[1;32m~\\AppData\\Local\\Temp\\ipykernel_11044\\2685650657.py\u001b[0m in \u001b[0;36m<module>\u001b[1;34m\u001b[0m\n\u001b[1;32m----> 1\u001b[1;33m \u001b[0ma\u001b[0m\u001b[1;33m[\u001b[0m\u001b[1;36m13\u001b[0m\u001b[1;33m]\u001b[0m\u001b[1;33m\u001b[0m\u001b[1;33m\u001b[0m\u001b[0m\n\u001b[0m",
      "\u001b[1;31mIndexError\u001b[0m: string index out of range"
     ]
    }
   ],
   "source": [
    "a[13]"
   ]
  },
  {
   "cell_type": "code",
   "execution_count": 7,
   "id": "154b5ea1",
   "metadata": {},
   "outputs": [
    {
     "data": {
      "text/plain": [
       "'a'"
      ]
     },
     "execution_count": 7,
     "metadata": {},
     "output_type": "execute_result"
    }
   ],
   "source": [
    "a[12]"
   ]
  },
  {
   "cell_type": "code",
   "execution_count": 8,
   "id": "db889f8e",
   "metadata": {},
   "outputs": [
    {
     "data": {
      "text/plain": [
       "'Samos'"
      ]
     },
     "execution_count": 8,
     "metadata": {},
     "output_type": "execute_result"
    }
   ],
   "source": [
    "a[0:5]"
   ]
  },
  {
   "cell_type": "code",
   "execution_count": 9,
   "id": "21789075",
   "metadata": {},
   "outputs": [
    {
     "data": {
      "text/plain": [
       "'Samosa'"
      ]
     },
     "execution_count": 9,
     "metadata": {},
     "output_type": "execute_result"
    }
   ],
   "source": [
    "#exclusive element is the last one\n",
    "a[0:6]"
   ]
  },
  {
   "cell_type": "code",
   "execution_count": 10,
   "id": "bf03ae90",
   "metadata": {},
   "outputs": [
    {
     "data": {
      "text/plain": [
       "'Samosa Pakora'"
      ]
     },
     "execution_count": 10,
     "metadata": {},
     "output_type": "execute_result"
    }
   ],
   "source": [
    "a[0:13]"
   ]
  },
  {
   "cell_type": "code",
   "execution_count": 11,
   "id": "4f6a19ae",
   "metadata": {},
   "outputs": [
    {
     "data": {
      "text/plain": [
       "'Samosa Pakor'"
      ]
     },
     "execution_count": 11,
     "metadata": {},
     "output_type": "execute_result"
    }
   ],
   "source": [
    "a[0:12]"
   ]
  },
  {
   "cell_type": "code",
   "execution_count": 12,
   "id": "6a1cf659",
   "metadata": {},
   "outputs": [
    {
     "data": {
      "text/plain": [
       "'a'"
      ]
     },
     "execution_count": 12,
     "metadata": {},
     "output_type": "execute_result"
    }
   ],
   "source": [
    "a[-1]"
   ]
  },
  {
   "cell_type": "code",
   "execution_count": 13,
   "id": "4627e5e5",
   "metadata": {},
   "outputs": [
    {
     "data": {
      "text/plain": [
       "'r'"
      ]
     },
     "execution_count": 13,
     "metadata": {},
     "output_type": "execute_result"
    }
   ],
   "source": [
    "a[-2]"
   ]
  },
  {
   "cell_type": "code",
   "execution_count": 14,
   "id": "3c6f1134",
   "metadata": {},
   "outputs": [
    {
     "data": {
      "text/plain": [
       "'Pakor'"
      ]
     },
     "execution_count": 14,
     "metadata": {},
     "output_type": "execute_result"
    }
   ],
   "source": [
    "a[-6:-1]"
   ]
  },
  {
   "cell_type": "code",
   "execution_count": 15,
   "id": "ba9dfec6",
   "metadata": {},
   "outputs": [
    {
     "data": {
      "text/plain": [
       "''"
      ]
     },
     "execution_count": 15,
     "metadata": {},
     "output_type": "execute_result"
    }
   ],
   "source": [
    "a[-6:0]"
   ]
  },
  {
   "cell_type": "code",
   "execution_count": 16,
   "id": "83e72342",
   "metadata": {},
   "outputs": [
    {
     "data": {
      "text/plain": [
       "'Pakora'"
      ]
     },
     "execution_count": 16,
     "metadata": {},
     "output_type": "execute_result"
    }
   ],
   "source": [
    "a[-6:13]"
   ]
  },
  {
   "cell_type": "code",
   "execution_count": 21,
   "id": "610cd6d6",
   "metadata": {},
   "outputs": [
    {
     "data": {
      "text/plain": [
       "'biryani'"
      ]
     },
     "execution_count": 21,
     "metadata": {},
     "output_type": "execute_result"
    }
   ],
   "source": [
    "food = \"biryani\"\n",
    "food"
   ]
  },
  {
   "cell_type": "markdown",
   "id": "f063b0b8",
   "metadata": {},
   "source": [
    "# String methods"
   ]
  },
  {
   "cell_type": "code",
   "execution_count": 18,
   "id": "3bec0730",
   "metadata": {},
   "outputs": [
    {
     "data": {
      "text/plain": [
       "7"
      ]
     },
     "execution_count": 18,
     "metadata": {},
     "output_type": "execute_result"
    }
   ],
   "source": [
    "len(food)"
   ]
  },
  {
   "cell_type": "code",
   "execution_count": 22,
   "id": "c060aad6",
   "metadata": {},
   "outputs": [
    {
     "data": {
      "text/plain": [
       "'Biryani'"
      ]
     },
     "execution_count": 22,
     "metadata": {},
     "output_type": "execute_result"
    }
   ],
   "source": [
    "#capitalize first letter\n",
    "food.capitalize()"
   ]
  },
  {
   "cell_type": "code",
   "execution_count": 23,
   "id": "ae505d03",
   "metadata": {},
   "outputs": [
    {
     "data": {
      "text/plain": [
       "'BIRYANI'"
      ]
     },
     "execution_count": 23,
     "metadata": {},
     "output_type": "execute_result"
    }
   ],
   "source": [
    "#upper case letters\n",
    "food.upper()"
   ]
  },
  {
   "cell_type": "code",
   "execution_count": 24,
   "id": "e980721f",
   "metadata": {},
   "outputs": [
    {
     "data": {
      "text/plain": [
       "'biryani'"
      ]
     },
     "execution_count": 24,
     "metadata": {},
     "output_type": "execute_result"
    }
   ],
   "source": [
    "#lower case letters\n",
    "food.lower()"
   ]
  },
  {
   "cell_type": "code",
   "execution_count": 25,
   "id": "d2023fe5",
   "metadata": {},
   "outputs": [
    {
     "data": {
      "text/plain": [
       "'Shiryani'"
      ]
     },
     "execution_count": 25,
     "metadata": {},
     "output_type": "execute_result"
    }
   ],
   "source": [
    "#replace the letter\n",
    "food.replace(\"b\",\"Sh\")"
   ]
  },
  {
   "cell_type": "code",
   "execution_count": 27,
   "id": "774ca261",
   "metadata": {},
   "outputs": [
    {
     "data": {
      "text/plain": [
       "'baba_ali with ali taqi'"
      ]
     },
     "execution_count": 27,
     "metadata": {},
     "output_type": "execute_result"
    }
   ],
   "source": [
    "#counting a specific alphabet in a string\n",
    "name = \"baba_ali with ali taqi\"\n",
    "name"
   ]
  },
  {
   "cell_type": "code",
   "execution_count": 29,
   "id": "f4cce0d5",
   "metadata": {},
   "outputs": [
    {
     "data": {
      "text/plain": [
       "5"
      ]
     },
     "execution_count": 29,
     "metadata": {},
     "output_type": "execute_result"
    }
   ],
   "source": [
    "#the way you want specific alphabet in a string\n",
    "name.count(\"a\")"
   ]
  },
  {
   "cell_type": "markdown",
   "id": "834fde4e",
   "metadata": {},
   "source": [
    "# finding an index number in string"
   ]
  },
  {
   "cell_type": "code",
   "execution_count": 30,
   "id": "0888a0b3",
   "metadata": {},
   "outputs": [
    {
     "data": {
      "text/plain": [
       "'baba_ali with ali taqi'"
      ]
     },
     "execution_count": 30,
     "metadata": {},
     "output_type": "execute_result"
    }
   ],
   "source": [
    "name = \"baba_ali with ali taqi\"\n",
    "name"
   ]
  },
  {
   "cell_type": "markdown",
   "id": "7bec86ed",
   "metadata": {},
   "source": [
    " "
   ]
  },
  {
   "cell_type": "code",
   "execution_count": 31,
   "id": "79a7edbb",
   "metadata": {},
   "outputs": [
    {
     "data": {
      "text/plain": [
       "11"
      ]
     },
     "execution_count": 31,
     "metadata": {},
     "output_type": "execute_result"
    }
   ],
   "source": [
    "name.index(\"t\")"
   ]
  },
  {
   "cell_type": "markdown",
   "id": "b343daf7",
   "metadata": {},
   "source": [
    "# how to split a string"
   ]
  },
  {
   "cell_type": "code",
   "execution_count": 32,
   "id": "9a1b8e1a",
   "metadata": {},
   "outputs": [
    {
     "data": {
      "text/plain": [
       "'i love samosa, pakora, biryani and raita'"
      ]
     },
     "execution_count": 32,
     "metadata": {},
     "output_type": "execute_result"
    }
   ],
   "source": [
    "food = \"i love samosa, pakora, biryani and raita\"\n",
    "food"
   ]
  },
  {
   "cell_type": "code",
   "execution_count": 33,
   "id": "a4c797e2",
   "metadata": {},
   "outputs": [
    {
     "data": {
      "text/plain": [
       "['i love samosa', ' pakora', ' biryani and raita']"
      ]
     },
     "execution_count": 33,
     "metadata": {},
     "output_type": "execute_result"
    }
   ],
   "source": [
    "food.split(\",\")"
   ]
  },
  {
   "cell_type": "markdown",
   "id": "276b99ac",
   "metadata": {},
   "source": [
    "# Basic data structure in python\n",
    "\n",
    "1- Tuple\n",
    "2- List\n",
    "3- Dictionaries\n",
    "4- Sets"
   ]
  },
  {
   "cell_type": "markdown",
   "id": "c7d3613e",
   "metadata": {},
   "source": [
    "## Tuple\n",
    "\n",
    "ordered collection of elements\n",
    "enclosed in () or paranthesis\n",
    "different kind of element can be stored\n",
    "once elements are stored you cannot change unmutatable(unchangeable)."
   ]
  },
  {
   "cell_type": "code",
   "execution_count": 36,
   "id": "e438d27b",
   "metadata": {},
   "outputs": [
    {
     "data": {
      "text/plain": [
       "(1, 'Python', True, 2.5)"
      ]
     },
     "execution_count": 36,
     "metadata": {},
     "output_type": "execute_result"
    }
   ],
   "source": [
    "#type of tuple\n",
    "tup1 = (1,\"Python\", True, 2.5)\n",
    "tup1"
   ]
  },
  {
   "cell_type": "code",
   "execution_count": 37,
   "id": "b7fe27cf",
   "metadata": {},
   "outputs": [
    {
     "data": {
      "text/plain": [
       "tuple"
      ]
     },
     "execution_count": 37,
     "metadata": {},
     "output_type": "execute_result"
    }
   ],
   "source": [
    "type(tup1)"
   ]
  },
  {
   "cell_type": "code",
   "execution_count": 117,
   "id": "e1e0410b",
   "metadata": {},
   "outputs": [
    {
     "data": {
      "text/plain": [
       "2"
      ]
     },
     "execution_count": 117,
     "metadata": {},
     "output_type": "execute_result"
    }
   ],
   "source": [
    "tup1.count(1)"
   ]
  },
  {
   "cell_type": "markdown",
   "id": "172c142a",
   "metadata": {},
   "source": [
    "### Indexing in tuple"
   ]
  },
  {
   "cell_type": "code",
   "execution_count": 39,
   "id": "78668d0d",
   "metadata": {},
   "outputs": [
    {
     "data": {
      "text/plain": [
       "1"
      ]
     },
     "execution_count": 39,
     "metadata": {},
     "output_type": "execute_result"
    }
   ],
   "source": [
    "tup1[0]"
   ]
  },
  {
   "cell_type": "code",
   "execution_count": 40,
   "id": "70a330a5",
   "metadata": {},
   "outputs": [
    {
     "data": {
      "text/plain": [
       "'Python'"
      ]
     },
     "execution_count": 40,
     "metadata": {},
     "output_type": "execute_result"
    }
   ],
   "source": [
    "tup1[1]"
   ]
  },
  {
   "cell_type": "code",
   "execution_count": 41,
   "id": "69571300",
   "metadata": {},
   "outputs": [
    {
     "data": {
      "text/plain": [
       "True"
      ]
     },
     "execution_count": 41,
     "metadata": {},
     "output_type": "execute_result"
    }
   ],
   "source": [
    "tup1[2]"
   ]
  },
  {
   "cell_type": "code",
   "execution_count": 42,
   "id": "c289565a",
   "metadata": {},
   "outputs": [
    {
     "data": {
      "text/plain": [
       "2.5"
      ]
     },
     "execution_count": 42,
     "metadata": {},
     "output_type": "execute_result"
    }
   ],
   "source": [
    "tup1[3]"
   ]
  },
  {
   "cell_type": "code",
   "execution_count": 43,
   "id": "5c6d758d",
   "metadata": {},
   "outputs": [
    {
     "data": {
      "text/plain": [
       "(1, 'Python', True, 2.5)"
      ]
     },
     "execution_count": 43,
     "metadata": {},
     "output_type": "execute_result"
    }
   ],
   "source": [
    "tup1[0:4]"
   ]
  },
  {
   "cell_type": "code",
   "execution_count": 44,
   "id": "1a7f5a89",
   "metadata": {},
   "outputs": [
    {
     "data": {
      "text/plain": [
       "(1, 'Python', True, 2.5)"
      ]
     },
     "execution_count": 44,
     "metadata": {},
     "output_type": "execute_result"
    }
   ],
   "source": [
    "tup1[0:5]"
   ]
  },
  {
   "cell_type": "code",
   "execution_count": 46,
   "id": "21362e8c",
   "metadata": {},
   "outputs": [
    {
     "data": {
      "text/plain": [
       "(1, 'Python', True)"
      ]
     },
     "execution_count": 46,
     "metadata": {},
     "output_type": "execute_result"
    }
   ],
   "source": [
    "#python main last wala exclusive hota hai \n",
    "tup1[0:3]"
   ]
  },
  {
   "cell_type": "code",
   "execution_count": 48,
   "id": "84690dbc",
   "metadata": {},
   "outputs": [
    {
     "data": {
      "text/plain": [
       "4"
      ]
     },
     "execution_count": 48,
     "metadata": {},
     "output_type": "execute_result"
    }
   ],
   "source": [
    "#length of tuple\n",
    "#count of tuple \n",
    "len(tup1)"
   ]
  },
  {
   "cell_type": "code",
   "execution_count": 49,
   "id": "7df00643",
   "metadata": {},
   "outputs": [],
   "source": [
    "tup2= (2,\"ali\",3.5,False)"
   ]
  },
  {
   "cell_type": "code",
   "execution_count": 50,
   "id": "57525300",
   "metadata": {},
   "outputs": [
    {
     "data": {
      "text/plain": [
       "(1, 'Python', True, 2.5, 2, 'ali', 3.5, False)"
      ]
     },
     "execution_count": 50,
     "metadata": {},
     "output_type": "execute_result"
    }
   ],
   "source": [
    "# when you add in tuple in python we call it as concatinate\n",
    "# to add two or more than 2 tuples\n",
    "#concatinate\n",
    "tup1 + tup2"
   ]
  },
  {
   "cell_type": "code",
   "execution_count": 51,
   "id": "ea0f7a70",
   "metadata": {},
   "outputs": [
    {
     "data": {
      "text/plain": [
       "(1, 'Python', True, 2.5, 1, 'Python', True, 2.5, 2, 'ali', 3.5, False)"
      ]
     },
     "execution_count": 51,
     "metadata": {},
     "output_type": "execute_result"
    }
   ],
   "source": [
    "#concatinate + repeat\n",
    "tup1 * 2+ tup2"
   ]
  },
  {
   "cell_type": "code",
   "execution_count": 52,
   "id": "5fbbe6a8",
   "metadata": {},
   "outputs": [
    {
     "name": "stdout",
     "output_type": "stream",
     "text": [
      "(25, 50, 60, 70, 80)\n"
     ]
    }
   ],
   "source": [
    "tup3 = (25, 50, 60, 70,80)\n",
    "print(tup3)"
   ]
  },
  {
   "cell_type": "code",
   "execution_count": 53,
   "id": "78424128",
   "metadata": {},
   "outputs": [
    {
     "data": {
      "text/plain": [
       "25"
      ]
     },
     "execution_count": 53,
     "metadata": {},
     "output_type": "execute_result"
    }
   ],
   "source": [
    "#minimum value\n",
    "min(tup3)"
   ]
  },
  {
   "cell_type": "code",
   "execution_count": 54,
   "id": "54b45830",
   "metadata": {},
   "outputs": [
    {
     "data": {
      "text/plain": [
       "80"
      ]
     },
     "execution_count": 54,
     "metadata": {},
     "output_type": "execute_result"
    }
   ],
   "source": [
    "#maxmimum value\n",
    "max(tup3)"
   ]
  },
  {
   "cell_type": "code",
   "execution_count": 55,
   "id": "c4cdd933",
   "metadata": {},
   "outputs": [
    {
     "data": {
      "text/plain": [
       "(25, 50, 60, 70, 80, 25, 50, 60, 70, 80, 25, 50, 60, 70, 80)"
      ]
     },
     "execution_count": 55,
     "metadata": {},
     "output_type": "execute_result"
    }
   ],
   "source": [
    "#3 times repetitiion\n",
    "tup3 *3"
   ]
  },
  {
   "cell_type": "code",
   "execution_count": null,
   "id": "086a1e5b",
   "metadata": {},
   "outputs": [],
   "source": []
  },
  {
   "cell_type": "code",
   "execution_count": 57,
   "id": "6a6c854f",
   "metadata": {},
   "outputs": [
    {
     "data": {
      "text/plain": [
       "Ellipsis"
      ]
     },
     "execution_count": 57,
     "metadata": {},
     "output_type": "execute_result"
    }
   ],
   "source": [
    "..."
   ]
  },
  {
   "cell_type": "markdown",
   "id": "bcfd177e",
   "metadata": {},
   "source": [
    "..."
   ]
  },
  {
   "cell_type": "markdown",
   "id": "81b462b7",
   "metadata": {},
   "source": [
    "---"
   ]
  },
  {
   "cell_type": "markdown",
   "id": "222f438d",
   "metadata": {},
   "source": [
    "### List\n",
    "- ordered collection of elements\n",
    "- enclosed in [closed brackets] []\n",
    "- mutatable that means you can change the value"
   ]
  },
  {
   "cell_type": "code",
   "execution_count": 58,
   "id": "6ebad328",
   "metadata": {},
   "outputs": [],
   "source": [
    "list1=[1,\"python\", 3.5]"
   ]
  },
  {
   "cell_type": "code",
   "execution_count": 59,
   "id": "4b2d87aa",
   "metadata": {},
   "outputs": [
    {
     "name": "stdout",
     "output_type": "stream",
     "text": [
      "[1, 'python', 3.5]\n"
     ]
    }
   ],
   "source": [
    "print(list1)"
   ]
  },
  {
   "cell_type": "code",
   "execution_count": 60,
   "id": "c16ae294",
   "metadata": {},
   "outputs": [
    {
     "data": {
      "text/plain": [
       "list"
      ]
     },
     "execution_count": 60,
     "metadata": {},
     "output_type": "execute_result"
    }
   ],
   "source": [
    "type(list1)"
   ]
  },
  {
   "cell_type": "code",
   "execution_count": 61,
   "id": "0365d6d8",
   "metadata": {},
   "outputs": [
    {
     "data": {
      "text/plain": [
       "3"
      ]
     },
     "execution_count": 61,
     "metadata": {},
     "output_type": "execute_result"
    }
   ],
   "source": [
    "len(list1)"
   ]
  },
  {
   "cell_type": "code",
   "execution_count": 62,
   "id": "db5e92a9",
   "metadata": {},
   "outputs": [
    {
     "data": {
      "text/plain": [
       "3.5"
      ]
     },
     "execution_count": 62,
     "metadata": {},
     "output_type": "execute_result"
    }
   ],
   "source": [
    "list1[2]"
   ]
  },
  {
   "cell_type": "code",
   "execution_count": 63,
   "id": "5234cffd",
   "metadata": {},
   "outputs": [
    {
     "data": {
      "text/plain": [
       "list[0]"
      ]
     },
     "execution_count": 63,
     "metadata": {},
     "output_type": "execute_result"
    }
   ],
   "source": [
    "list[0]"
   ]
  },
  {
   "cell_type": "code",
   "execution_count": 64,
   "id": "d6980eb4",
   "metadata": {},
   "outputs": [
    {
     "data": {
      "text/plain": [
       "1"
      ]
     },
     "execution_count": 64,
     "metadata": {},
     "output_type": "execute_result"
    }
   ],
   "source": [
    "list1[0]"
   ]
  },
  {
   "cell_type": "code",
   "execution_count": 65,
   "id": "c14c9a5f",
   "metadata": {},
   "outputs": [
    {
     "name": "stdout",
     "output_type": "stream",
     "text": [
      "[2, 5, 'ali', 4050, 53.6, False]\n"
     ]
    }
   ],
   "source": [
    "list2 =[2,5, \"ali\", 4050,53.6, False]\n",
    "print(list2)"
   ]
  },
  {
   "cell_type": "code",
   "execution_count": 66,
   "id": "9d7b9069",
   "metadata": {},
   "outputs": [
    {
     "data": {
      "text/plain": [
       "[1, 'python', 3.5, 2, 5, 'ali', 4050, 53.6, False]"
      ]
     },
     "execution_count": 66,
     "metadata": {},
     "output_type": "execute_result"
    }
   ],
   "source": [
    "#concatinate\n",
    "list1 + list2"
   ]
  },
  {
   "cell_type": "code",
   "execution_count": 67,
   "id": "c0a5c2d0",
   "metadata": {},
   "outputs": [
    {
     "ename": "TypeError",
     "evalue": "can't multiply sequence by non-int of type 'list'",
     "output_type": "error",
     "traceback": [
      "\u001b[1;31m---------------------------------------------------------------------------\u001b[0m",
      "\u001b[1;31mTypeError\u001b[0m                                 Traceback (most recent call last)",
      "\u001b[1;32m~\\AppData\\Local\\Temp\\ipykernel_11044\\4000225662.py\u001b[0m in \u001b[0;36m<module>\u001b[1;34m\u001b[0m\n\u001b[1;32m----> 1\u001b[1;33m \u001b[0mlist1\u001b[0m \u001b[1;33m*\u001b[0m \u001b[0mlist2\u001b[0m\u001b[1;33m\u001b[0m\u001b[1;33m\u001b[0m\u001b[0m\n\u001b[0m",
      "\u001b[1;31mTypeError\u001b[0m: can't multiply sequence by non-int of type 'list'"
     ]
    }
   ],
   "source": [
    "list1 * list2"
   ]
  },
  {
   "cell_type": "code",
   "execution_count": 68,
   "id": "593809ae",
   "metadata": {},
   "outputs": [
    {
     "data": {
      "text/plain": [
       "[1, 'python', 3.5, 1, 'python', 3.5]"
      ]
     },
     "execution_count": 68,
     "metadata": {},
     "output_type": "execute_result"
    }
   ],
   "source": [
    "list1 *2"
   ]
  },
  {
   "cell_type": "code",
   "execution_count": 69,
   "id": "551852d6",
   "metadata": {},
   "outputs": [],
   "source": [
    "list1.reverse()"
   ]
  },
  {
   "cell_type": "code",
   "execution_count": 70,
   "id": "ab72aef6",
   "metadata": {},
   "outputs": [
    {
     "name": "stdout",
     "output_type": "stream",
     "text": [
      "[3.5, 'python', 1]\n"
     ]
    }
   ],
   "source": [
    "print(list1)"
   ]
  },
  {
   "cell_type": "code",
   "execution_count": null,
   "id": "9ab89f75",
   "metadata": {},
   "outputs": [],
   "source": []
  },
  {
   "cell_type": "code",
   "execution_count": 71,
   "id": "5225f51b",
   "metadata": {},
   "outputs": [],
   "source": [
    "list1.append(\"Youtube\")"
   ]
  },
  {
   "cell_type": "code",
   "execution_count": 72,
   "id": "698485ee",
   "metadata": {},
   "outputs": [
    {
     "name": "stdout",
     "output_type": "stream",
     "text": [
      "[3.5, 'python', 1, 'Youtube']\n"
     ]
    }
   ],
   "source": [
    "print(list1)"
   ]
  },
  {
   "cell_type": "code",
   "execution_count": 73,
   "id": "ecacd922",
   "metadata": {},
   "outputs": [
    {
     "ename": "TypeError",
     "evalue": "list.count() takes exactly one argument (0 given)",
     "output_type": "error",
     "traceback": [
      "\u001b[1;31m---------------------------------------------------------------------------\u001b[0m",
      "\u001b[1;31mTypeError\u001b[0m                                 Traceback (most recent call last)",
      "\u001b[1;32m~\\AppData\\Local\\Temp\\ipykernel_11044\\4265920555.py\u001b[0m in \u001b[0;36m<module>\u001b[1;34m\u001b[0m\n\u001b[1;32m----> 1\u001b[1;33m \u001b[0mlist1\u001b[0m\u001b[1;33m.\u001b[0m\u001b[0mcount\u001b[0m\u001b[1;33m(\u001b[0m\u001b[1;33m)\u001b[0m\u001b[1;33m\u001b[0m\u001b[1;33m\u001b[0m\u001b[0m\n\u001b[0m",
      "\u001b[1;31mTypeError\u001b[0m: list.count() takes exactly one argument (0 given)"
     ]
    }
   ],
   "source": [
    "list1.count()"
   ]
  },
  {
   "cell_type": "code",
   "execution_count": 74,
   "id": "a36c7340",
   "metadata": {},
   "outputs": [
    {
     "data": {
      "text/plain": [
       "1"
      ]
     },
     "execution_count": 74,
     "metadata": {},
     "output_type": "execute_result"
    }
   ],
   "source": [
    "list1.count(1)"
   ]
  },
  {
   "cell_type": "code",
   "execution_count": 79,
   "id": "6dd78034",
   "metadata": {},
   "outputs": [
    {
     "data": {
      "text/plain": [
       "1"
      ]
     },
     "execution_count": 79,
     "metadata": {},
     "output_type": "execute_result"
    }
   ],
   "source": [
    " list1.count(1)"
   ]
  },
  {
   "cell_type": "code",
   "execution_count": 80,
   "id": "4e227ba5",
   "metadata": {},
   "outputs": [],
   "source": [
    "list3 =[20,30,14,54,78,87,93,15]"
   ]
  },
  {
   "cell_type": "code",
   "execution_count": 81,
   "id": "95576c13",
   "metadata": {},
   "outputs": [
    {
     "name": "stdout",
     "output_type": "stream",
     "text": [
      "[20, 30, 14, 54, 78, 87, 93, 15]\n"
     ]
    }
   ],
   "source": [
    "print(list3)"
   ]
  },
  {
   "cell_type": "code",
   "execution_count": 82,
   "id": "69c80a44",
   "metadata": {},
   "outputs": [
    {
     "data": {
      "text/plain": [
       "8"
      ]
     },
     "execution_count": 82,
     "metadata": {},
     "output_type": "execute_result"
    }
   ],
   "source": [
    "len(list3)"
   ]
  },
  {
   "cell_type": "code",
   "execution_count": 83,
   "id": "5dee6b1b",
   "metadata": {},
   "outputs": [
    {
     "ename": "NameError",
     "evalue": "name 'mean' is not defined",
     "output_type": "error",
     "traceback": [
      "\u001b[1;31m---------------------------------------------------------------------------\u001b[0m",
      "\u001b[1;31mNameError\u001b[0m                                 Traceback (most recent call last)",
      "\u001b[1;32m~\\AppData\\Local\\Temp\\ipykernel_11044\\1015425270.py\u001b[0m in \u001b[0;36m<module>\u001b[1;34m\u001b[0m\n\u001b[1;32m----> 1\u001b[1;33m \u001b[0mmean\u001b[0m\u001b[1;33m(\u001b[0m\u001b[0mlist3\u001b[0m\u001b[1;33m)\u001b[0m\u001b[1;33m\u001b[0m\u001b[1;33m\u001b[0m\u001b[0m\n\u001b[0m",
      "\u001b[1;31mNameError\u001b[0m: name 'mean' is not defined"
     ]
    }
   ],
   "source": [
    "mean(list3)"
   ]
  },
  {
   "cell_type": "code",
   "execution_count": 84,
   "id": "b397c03c",
   "metadata": {},
   "outputs": [],
   "source": [
    "list3.sort()"
   ]
  },
  {
   "cell_type": "code",
   "execution_count": 85,
   "id": "922b7362",
   "metadata": {},
   "outputs": [
    {
     "name": "stdout",
     "output_type": "stream",
     "text": [
      "[14, 15, 20, 30, 54, 78, 87, 93]\n"
     ]
    }
   ],
   "source": [
    "print(list3)"
   ]
  },
  {
   "cell_type": "code",
   "execution_count": 86,
   "id": "f4d6d31e",
   "metadata": {},
   "outputs": [
    {
     "data": {
      "text/plain": [
       "[14,\n",
       " 15,\n",
       " 20,\n",
       " 30,\n",
       " 54,\n",
       " 78,\n",
       " 87,\n",
       " 93,\n",
       " 14,\n",
       " 15,\n",
       " 20,\n",
       " 30,\n",
       " 54,\n",
       " 78,\n",
       " 87,\n",
       " 93,\n",
       " 14,\n",
       " 15,\n",
       " 20,\n",
       " 30,\n",
       " 54,\n",
       " 78,\n",
       " 87,\n",
       " 93]"
      ]
     },
     "execution_count": 86,
     "metadata": {},
     "output_type": "execute_result"
    }
   ],
   "source": [
    "list3 *3"
   ]
  },
  {
   "cell_type": "code",
   "execution_count": 87,
   "id": "baef2fe7",
   "metadata": {},
   "outputs": [
    {
     "data": {
      "text/plain": [
       "[3.5, 'python', 1, 'Youtube', 14, 15, 20, 30, 54, 78, 87, 93]"
      ]
     },
     "execution_count": 87,
     "metadata": {},
     "output_type": "execute_result"
    }
   ],
   "source": [
    "list1 + list3"
   ]
  },
  {
   "cell_type": "code",
   "execution_count": 88,
   "id": "637dae9f",
   "metadata": {},
   "outputs": [
    {
     "data": {
      "text/plain": [
       "[3.5,\n",
       " 'python',\n",
       " 1,\n",
       " 'Youtube',\n",
       " 2,\n",
       " 5,\n",
       " 'ali',\n",
       " 4050,\n",
       " 53.6,\n",
       " False,\n",
       " 14,\n",
       " 15,\n",
       " 20,\n",
       " 30,\n",
       " 54,\n",
       " 78,\n",
       " 87,\n",
       " 93]"
      ]
     },
     "execution_count": 88,
     "metadata": {},
     "output_type": "execute_result"
    }
   ],
   "source": [
    "list1 + list2 + list3 "
   ]
  },
  {
   "cell_type": "markdown",
   "id": "d554a213",
   "metadata": {},
   "source": [
    "### Dictionaries\n",
    "- an unordered collection of elements.\n",
    "- key and value\n",
    "- curly braces and brackets\n",
    "- mutatable that means you can change the values."
   ]
  },
  {
   "cell_type": "code",
   "execution_count": 94,
   "id": "73aa305a",
   "metadata": {},
   "outputs": [
    {
     "data": {
      "text/plain": [
       "{'samosa': 30, 'pakora': 50, 'raita': 20, 'salad': 15, 'chicken roll': 25}"
      ]
     },
     "execution_count": 94,
     "metadata": {},
     "output_type": "execute_result"
    }
   ],
   "source": [
    "# food and prices\n",
    "food1= {\"samosa\": 30, \"pakora\": 50, \"raita\": 20, \"salad\": 15, \"chicken roll\": 25}\n",
    "food1"
   ]
  },
  {
   "cell_type": "code",
   "execution_count": 95,
   "id": "f429b9db",
   "metadata": {},
   "outputs": [
    {
     "data": {
      "text/plain": [
       "dict"
      ]
     },
     "execution_count": 95,
     "metadata": {},
     "output_type": "execute_result"
    }
   ],
   "source": [
    "type(food1)"
   ]
  },
  {
   "cell_type": "code",
   "execution_count": 96,
   "id": "b4706f05",
   "metadata": {},
   "outputs": [
    {
     "data": {
      "text/plain": [
       "dict_keys(['samosa', 'pakora', 'raita', 'salad', 'chicken roll'])"
      ]
     },
     "execution_count": 96,
     "metadata": {},
     "output_type": "execute_result"
    }
   ],
   "source": [
    "#extract data\n",
    "food1.keys()"
   ]
  },
  {
   "cell_type": "code",
   "execution_count": 97,
   "id": "82dfc638",
   "metadata": {},
   "outputs": [
    {
     "data": {
      "text/plain": [
       "dict_keys(['samosa', 'pakora', 'raita', 'salad', 'chicken roll'])"
      ]
     },
     "execution_count": 97,
     "metadata": {},
     "output_type": "execute_result"
    }
   ],
   "source": [
    "keys1= (food1.keys())\n",
    "keys1"
   ]
  },
  {
   "cell_type": "code",
   "execution_count": 98,
   "id": "174e0fd5",
   "metadata": {},
   "outputs": [
    {
     "data": {
      "text/plain": [
       "dict_values([30, 50, 20, 15, 25])"
      ]
     },
     "execution_count": 98,
     "metadata": {},
     "output_type": "execute_result"
    }
   ],
   "source": [
    "#extract value\n",
    "food1.values()"
   ]
  },
  {
   "cell_type": "code",
   "execution_count": 99,
   "id": "c3138a2c",
   "metadata": {},
   "outputs": [
    {
     "data": {
      "text/plain": [
       "dict_values([30, 50, 20, 15, 25])"
      ]
     },
     "execution_count": 99,
     "metadata": {},
     "output_type": "execute_result"
    }
   ],
   "source": [
    "values1= (food1.values())\n",
    "values1"
   ]
  },
  {
   "cell_type": "code",
   "execution_count": null,
   "id": "89d3cf8a",
   "metadata": {},
   "outputs": [],
   "source": [
    "#append mean to add or change something\n",
    "food1.update{}"
   ]
  },
  {
   "cell_type": "code",
   "execution_count": 100,
   "id": "7a13cdd9",
   "metadata": {},
   "outputs": [
    {
     "data": {
      "text/plain": [
       "{'samosa': 30,\n",
       " 'pakora': 50,\n",
       " 'raita': 20,\n",
       " 'salad': 15,\n",
       " 'chicken roll': 25,\n",
       " 'tikki': 10}"
      ]
     },
     "execution_count": 100,
     "metadata": {},
     "output_type": "execute_result"
    }
   ],
   "source": [
    "#adding new value that means mutate\n",
    "food1[\"tikki\"]=10\n",
    "food1"
   ]
  },
  {
   "cell_type": "code",
   "execution_count": 101,
   "id": "3bf7fd28",
   "metadata": {},
   "outputs": [
    {
     "data": {
      "text/plain": [
       "{'samosa': 30,\n",
       " 'pakora': 50,\n",
       " 'raita': 20,\n",
       " 'salad': 15,\n",
       " 'chicken roll': 25,\n",
       " 'tikki': 15}"
      ]
     },
     "execution_count": 101,
     "metadata": {},
     "output_type": "execute_result"
    }
   ],
   "source": [
    "#update the values\n",
    "food1[\"tikki\"]= 15\n",
    "food1"
   ]
  },
  {
   "cell_type": "code",
   "execution_count": 102,
   "id": "be906dc3",
   "metadata": {},
   "outputs": [
    {
     "data": {
      "text/plain": [
       "{'dates': 50, 'chocolates': 100, 'kheer': 1000}"
      ]
     },
     "execution_count": 102,
     "metadata": {},
     "output_type": "execute_result"
    }
   ],
   "source": [
    "food2= {\"dates\":50, \"chocolates\":100, \"kheer\":1000}\n",
    "food2"
   ]
  },
  {
   "cell_type": "code",
   "execution_count": 103,
   "id": "c52187e4",
   "metadata": {},
   "outputs": [
    {
     "data": {
      "text/plain": [
       "dict"
      ]
     },
     "execution_count": 103,
     "metadata": {},
     "output_type": "execute_result"
    }
   ],
   "source": [
    "type(food2)"
   ]
  },
  {
   "cell_type": "code",
   "execution_count": 104,
   "id": "9b318cf4",
   "metadata": {},
   "outputs": [
    {
     "ename": "TypeError",
     "evalue": "unsupported operand type(s) for +: 'dict' and 'dict'",
     "output_type": "error",
     "traceback": [
      "\u001b[1;31m---------------------------------------------------------------------------\u001b[0m",
      "\u001b[1;31mTypeError\u001b[0m                                 Traceback (most recent call last)",
      "\u001b[1;32m~\\AppData\\Local\\Temp\\ipykernel_11044\\1952322389.py\u001b[0m in \u001b[0;36m<module>\u001b[1;34m\u001b[0m\n\u001b[0;32m      1\u001b[0m \u001b[1;31m#concatinate\u001b[0m\u001b[1;33m\u001b[0m\u001b[1;33m\u001b[0m\u001b[0m\n\u001b[1;32m----> 2\u001b[1;33m \u001b[0mfood1\u001b[0m \u001b[1;33m+\u001b[0m \u001b[0mfood2\u001b[0m\u001b[1;33m\u001b[0m\u001b[1;33m\u001b[0m\u001b[0m\n\u001b[0m",
      "\u001b[1;31mTypeError\u001b[0m: unsupported operand type(s) for +: 'dict' and 'dict'"
     ]
    }
   ],
   "source": [
    "#concatinate\n",
    "food1 + food2"
   ]
  },
  {
   "cell_type": "code",
   "execution_count": 105,
   "id": "9c4eedb3",
   "metadata": {},
   "outputs": [],
   "source": [
    "#this is how we concatitinate in dictionaries simple concatinate will not work.\n",
    "food1.update(food2)"
   ]
  },
  {
   "cell_type": "code",
   "execution_count": 106,
   "id": "93c206cf",
   "metadata": {},
   "outputs": [
    {
     "data": {
      "text/plain": [
       "{'samosa': 30,\n",
       " 'pakora': 50,\n",
       " 'raita': 20,\n",
       " 'salad': 15,\n",
       " 'chicken roll': 25,\n",
       " 'tikki': 15,\n",
       " 'dates': 50,\n",
       " 'chocolates': 100,\n",
       " 'kheer': 1000}"
      ]
     },
     "execution_count": 106,
     "metadata": {},
     "output_type": "execute_result"
    }
   ],
   "source": [
    "food1"
   ]
  },
  {
   "cell_type": "markdown",
   "id": "23ac88a4",
   "metadata": {},
   "source": [
    "###  Sets\n",
    "- unordered and unindexed\n",
    "- curly braces are used.\n",
    "- no duplicates allowed"
   ]
  },
  {
   "cell_type": "code",
   "execution_count": 107,
   "id": "8483a434",
   "metadata": {},
   "outputs": [
    {
     "data": {
      "text/plain": [
       "{1, 2.1, 5.2, 'aali', 'comsats', 'gujrat', 'lahore'}"
      ]
     },
     "execution_count": 107,
     "metadata": {},
     "output_type": "execute_result"
    }
   ],
   "source": [
    "s1 = {1, 2.1, 5.2, \"aali\", \"gujrat\", \"comsats\", \"lahore\"}\n",
    "s1"
   ]
  },
  {
   "cell_type": "code",
   "execution_count": 109,
   "id": "bb1d8f82",
   "metadata": {},
   "outputs": [
    {
     "data": {
      "text/plain": [
       "{1, 2.1, 5.2, 'Taqi', 'aali', 'comsats', 'gujrat', 'lahore'}"
      ]
     },
     "execution_count": 109,
     "metadata": {},
     "output_type": "execute_result"
    }
   ],
   "source": [
    "s1.add(\"Taqi\")\n",
    "s1"
   ]
  },
  {
   "cell_type": "code",
   "execution_count": 110,
   "id": "4b9b83d3",
   "metadata": {},
   "outputs": [
    {
     "data": {
      "text/plain": [
       "set"
      ]
     },
     "execution_count": 110,
     "metadata": {},
     "output_type": "execute_result"
    }
   ],
   "source": [
    "type(s1)"
   ]
  },
  {
   "cell_type": "code",
   "execution_count": 111,
   "id": "93184b79",
   "metadata": {},
   "outputs": [],
   "source": [
    "#set ka andar duplicate nahi aa saktay iss wja sa ye nahi ho ga add kyu ka pehlay sa hi Taqi add hai \n",
    "s1.add(\"Taqi\")"
   ]
  },
  {
   "cell_type": "code",
   "execution_count": 112,
   "id": "14172c0f",
   "metadata": {},
   "outputs": [
    {
     "ename": "AttributeError",
     "evalue": "'set' object has no attribute 'removee'",
     "output_type": "error",
     "traceback": [
      "\u001b[1;31m---------------------------------------------------------------------------\u001b[0m",
      "\u001b[1;31mAttributeError\u001b[0m                            Traceback (most recent call last)",
      "\u001b[1;32m~\\AppData\\Local\\Temp\\ipykernel_11044\\848381993.py\u001b[0m in \u001b[0;36m<module>\u001b[1;34m\u001b[0m\n\u001b[1;32m----> 1\u001b[1;33m \u001b[0ms1\u001b[0m\u001b[1;33m.\u001b[0m\u001b[0mremovee\u001b[0m\u001b[1;33m(\u001b[0m\u001b[1;34m\"Taqi\"\u001b[0m\u001b[1;33m)\u001b[0m\u001b[1;33m\u001b[0m\u001b[1;33m\u001b[0m\u001b[0m\n\u001b[0m",
      "\u001b[1;31mAttributeError\u001b[0m: 'set' object has no attribute 'removee'"
     ]
    }
   ],
   "source": [
    "s1.removee(\"Taqi\")"
   ]
  },
  {
   "cell_type": "code",
   "execution_count": 113,
   "id": "6cfa57e8",
   "metadata": {},
   "outputs": [],
   "source": [
    "s1.remove(\"Taqi\")"
   ]
  },
  {
   "cell_type": "code",
   "execution_count": 114,
   "id": "6996e581",
   "metadata": {},
   "outputs": [
    {
     "data": {
      "text/plain": [
       "{1, 2.1, 5.2, 'aali', 'comsats', 'gujrat', 'lahore'}"
      ]
     },
     "execution_count": 114,
     "metadata": {},
     "output_type": "execute_result"
    }
   ],
   "source": [
    "s1"
   ]
  },
  {
   "cell_type": "code",
   "execution_count": null,
   "id": "ffdd2c9c",
   "metadata": {},
   "outputs": [],
   "source": [
    "s1."
   ]
  },
  {
   "cell_type": "code",
   "execution_count": 115,
   "id": "8d01bcbb",
   "metadata": {},
   "outputs": [
    {
     "ename": "TypeError",
     "evalue": "tuple.count() takes exactly one argument (0 given)",
     "output_type": "error",
     "traceback": [
      "\u001b[1;31m---------------------------------------------------------------------------\u001b[0m",
      "\u001b[1;31mTypeError\u001b[0m                                 Traceback (most recent call last)",
      "\u001b[1;32m~\\AppData\\Local\\Temp\\ipykernel_11044\\2943704110.py\u001b[0m in \u001b[0;36m<module>\u001b[1;34m\u001b[0m\n\u001b[1;32m----> 1\u001b[1;33m \u001b[0mtup3\u001b[0m\u001b[1;33m.\u001b[0m\u001b[0mcount\u001b[0m\u001b[1;33m(\u001b[0m\u001b[1;33m)\u001b[0m\u001b[1;33m\u001b[0m\u001b[1;33m\u001b[0m\u001b[0m\n\u001b[0m",
      "\u001b[1;31mTypeError\u001b[0m: tuple.count() takes exactly one argument (0 given)"
     ]
    }
   ],
   "source": [
    "tup3.count()"
   ]
  },
  {
   "cell_type": "code",
   "execution_count": null,
   "id": "13edc9ee",
   "metadata": {},
   "outputs": [],
   "source": [
    "list1."
   ]
  },
  {
   "cell_type": "code",
   "execution_count": null,
   "id": "702f8ede",
   "metadata": {},
   "outputs": [],
   "source": [
    "food1."
   ]
  },
  {
   "cell_type": "code",
   "execution_count": null,
   "id": "2652ba4e",
   "metadata": {},
   "outputs": [],
   "source": []
  }
 ],
 "metadata": {
  "kernelspec": {
   "display_name": "Python 3 (ipykernel)",
   "language": "python",
   "name": "python3"
  },
  "language_info": {
   "codemirror_mode": {
    "name": "ipython",
    "version": 3
   },
   "file_extension": ".py",
   "mimetype": "text/x-python",
   "name": "python",
   "nbconvert_exporter": "python",
   "pygments_lexer": "ipython3",
   "version": "3.9.13"
  }
 },
 "nbformat": 4,
 "nbformat_minor": 5
}
